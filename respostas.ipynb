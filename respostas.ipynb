{
 "cells": [
  {
   "cell_type": "markdown",
   "metadata": {},
   "source": [
    "1) Observe o trecho de código abaixo: \\\n",
    "int INDICE = 13, SOMA = 0, K = 0;\\\n",
    "Enquanto K < INDICE faça { K = K + 1; SOMA = SOMA + K; }\\\n",
    "Imprimir(SOMA);\\\n",
    "Ao final do processamento, qual será o valor da variável SOMA? \\\n",
    "**Resposta:** \n",
    "$$\\frac{(a_1-a_n)\\cdot n}{2} = \\frac{(1+13)\\cdot 13}{2} = 91$$"
   ]
  },
  {
   "cell_type": "markdown",
   "metadata": {},
   "source": [
    "2) Dado a sequência de Fibonacci, onde se inicia por 0 e 1 e o próximo valor sempre será a soma dos 2 valores anteriores (exemplo: 0, 1, 1, 2, 3, 5, 8, 13, 21, 34...), escreva um programa na linguagem que desejar onde, informado um número, ele calcule a sequência de Fibonacci e retorne uma mensagem avisando se o número informado pertence ou não a sequência.\n",
    "\n",
    "IMPORTANTE: Esse número pode ser informado através de qualquer entrada de sua preferência ou pode ser previamente definido no código;\n"
   ]
  },
  {
   "cell_type": "code",
   "execution_count": 11,
   "metadata": {},
   "outputs": [
    {
     "name": "stdout",
     "output_type": "stream",
     "text": [
      "É um número de Fibonacci!\n",
      "É um número de Fibonacci!\n",
      "É um número de Fibonacci!\n",
      "É um número de Fibonacci!\n",
      "Não é um número de Fibonacci!\n",
      "É um número de Fibonacci!\n",
      "Não é um número de Fibonacci!\n",
      "Não é um número de Fibonacci!\n",
      "É um número de Fibonacci!\n",
      "Não é um número de Fibonacci!\n",
      "Não é um número de Fibonacci!\n"
     ]
    }
   ],
   "source": [
    "def isFibonnaci(n):\n",
    "    if n == 0:\n",
    "        print(\"É um número de Fibonacci!\")\n",
    "        return\n",
    "\n",
    "    fibonacci = [0, 1]\n",
    "    while fibonacci[-1] < n:\n",
    "        fibonacci.append(fibonacci[-1] + fibonacci[-2])\n",
    "    \n",
    "    if fibonacci[-1] == n:\n",
    "        print(\"É um número de Fibonacci!\")\n",
    "    else:\n",
    "        print(\"Não é um número de Fibonacci!\")\n",
    "    return\n",
    "    \n",
    "num = [0, 1, 2, 3, 4, 5, 6, 7, 8, 9, 10]\n",
    "for i in num:\n",
    "    isFibonnaci(i)\n"
   ]
  },
  {
   "cell_type": "markdown",
   "metadata": {},
   "source": [
    "3) Dado um vetor que guarda o valor de faturamento diário de uma distribuidora, faça um programa, na linguagem que desejar, que calcule e retorne: \\\n",
    "• O menor valor de faturamento ocorrido em um dia do mês; \\\n",
    "• O maior valor de faturamento ocorrido em um dia do mês; \\\n",
    "• Número de dias no mês em que o valor de faturamento diário foi superior à média mensal. \\\n",
    "\n",
    "IMPORTANTE: \\\n",
    "a) Usar o json ou xml disponível como fonte dos dados do faturamento mensal; \\\n",
    "b) Podem existir dias sem faturamento, como nos finais de semana e feriados. Estes dias devem ser ignorados no cálculo da média;"
   ]
  },
  {
   "cell_type": "code",
   "execution_count": 38,
   "metadata": {},
   "outputs": [],
   "source": [
    "# Definindo funções para leitura de arquivos JSON e XML\n",
    "import json\n",
    "import xml.etree.ElementTree as ET\n",
    "\n",
    "def readJson(filename):\n",
    "    with open(filename, 'r') as file:\n",
    "        data = json.load(file)\n",
    "\n",
    "    dictData = {int(row['dia']): float(row['valor']) for row in data}\n",
    "    return dictData\n",
    "\n",
    "def readXML(filename):\n",
    "    tree = ET.parse(filename)\n",
    "    root = tree.getroot()\n",
    "\n",
    "    data = []\n",
    "    for child in root:\n",
    "        dia = int(child.find('dia').text)\n",
    "        valor = float(child.find('valor').text)\n",
    "        data.append({'dia': dia, 'valor': valor})\n",
    "\n",
    "    dictData = {item['dia']: item['valor'] for item in data}\n",
    "    return dictData\n",
    "\n",
    "def readData(filename):\n",
    "    if filename.find('.json') != -1:\n",
    "        return readJson(filename)\n",
    "    elif filename.find('.xml') != -1:\n",
    "        return readXML(filename)"
   ]
  },
  {
   "cell_type": "code",
   "execution_count": 54,
   "metadata": {},
   "outputs": [
    {
     "name": "stdout",
     "output_type": "stream",
     "text": [
      "Menor valor: 373.7838 [Dia 14]\n",
      "Maior valor: 48924.2448 [Dia 16]\n",
      "Numero de dias com valores acima da média mensal (20865.3702): 10\n"
     ]
    }
   ],
   "source": [
    "data = readData('dados.json')\n",
    "\n",
    "# Removendo valores iguais a 0\n",
    "for key, value in list(data.items()):\n",
    "    if value == 0.0 :\n",
    "        data.pop(key)\n",
    "\n",
    "# Obtendo os valores solicitados\n",
    "average = sum(data.values()) / len(data)\n",
    "print(f'Menor valor: {min(data.values())} [Dia {min(data, key=data.get)}]')\n",
    "print(f'Maior valor: {max(data.values())} [Dia {max(data, key=data.get)}]')\n",
    "print(f'Numero de dias com valores acima da média mensal ({average:.4f}): {len([dia for dia, valor in data.items() if valor > average])}')"
   ]
  },
  {
   "cell_type": "markdown",
   "metadata": {},
   "source": [
    "4) Dado o valor de faturamento mensal de uma distribuidora, detalhado por estado: \\\n",
    "• SP – R$67.836,43 \\\n",
    "• RJ – R$36.678,66 \\\n",
    "• MG – R$29.229,88 \\\n",
    "• ES – R$27.165,48 \\\n",
    "• Outros – R$19.849,53 \\\n",
    " \\\n",
    "Escreva um programa na linguagem que desejar onde calcule o percentual de representação que cada estado teve dentro do valor total mensal da distribuidora.  \n"
   ]
  },
  {
   "cell_type": "code",
   "execution_count": 58,
   "metadata": {},
   "outputs": [
    {
     "name": "stdout",
     "output_type": "stream",
     "text": [
      "Percentual de faturamento do estado de SP: 37.5285%\n",
      "Percentual de faturamento do estado de RJ: 20.2914%\n",
      "Percentual de faturamento do estado de MG: 16.1705%\n",
      "Percentual de faturamento do estado de ES: 15.0285%\n",
      "Percentual de faturamento do estado de Outros: 10.9812%\n"
     ]
    }
   ],
   "source": [
    "data = {'SP':67836.45,\n",
    "        'RJ':36678.66,\n",
    "        'MG':29229.88,\n",
    "        'ES':27165.48,\n",
    "        'Outros':19849.53}\n",
    "\n",
    "total = sum(data.values())\n",
    "percent = {estado: (faturamento / total) * 100 for estado, faturamento in data.items()}\n",
    "for estado, perc in percent.items():\n",
    "        print(f'Percentual de faturamento do estado de {estado}: {perc:.4f}%')"
   ]
  },
  {
   "cell_type": "markdown",
   "metadata": {},
   "source": [
    "5) Escreva um programa que inverta os caracteres de um string.\n",
    "\n",
    "IMPORTANTE: \\\n",
    "a) Essa string pode ser informada através de qualquer entrada de sua preferência ou pode ser previamente definida no código; \\\n",
    "b) Evite usar funções prontas, como, por exemplo, reverse;"
   ]
  },
  {
   "cell_type": "code",
   "execution_count": 61,
   "metadata": {},
   "outputs": [
    {
     "name": "stdout",
     "output_type": "stream",
     "text": [
      "HGFEDCBA\n"
     ]
    }
   ],
   "source": [
    "def reversedString(string):\n",
    "    aux = ''\n",
    "    finalIndex = len(string) - 1\n",
    "    for i in range(len(string)):\n",
    "        aux += string[finalIndex - i]\n",
    "    return aux\n",
    "\n",
    "print(reversedString('ABCDEFGH'))"
   ]
  }
 ],
 "metadata": {
  "kernelspec": {
   "display_name": "Python 3",
   "language": "python",
   "name": "python3"
  },
  "language_info": {
   "codemirror_mode": {
    "name": "ipython",
    "version": 3
   },
   "file_extension": ".py",
   "mimetype": "text/x-python",
   "name": "python",
   "nbconvert_exporter": "python",
   "pygments_lexer": "ipython3",
   "version": "3.12.5"
  }
 },
 "nbformat": 4,
 "nbformat_minor": 2
}
